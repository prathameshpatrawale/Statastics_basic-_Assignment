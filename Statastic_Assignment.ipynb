{
 "cells": [
  {
   "cell_type": "markdown",
   "id": "f4e65581",
   "metadata": {
    "vscode": {
     "languageId": "plaintext"
    }
   },
   "source": [
    "# Theorotical Questions"
   ]
  },
  {
   "cell_type": "markdown",
   "id": "7bc0459f",
   "metadata": {},
   "source": [
    "1. What is statistics, and why is it important?\n",
    "- Statatics is the fundamental pillar of data science, interprete and make prediction from data.\n",
    "\n",
    "2. What are the two main types of statistics?\n",
    "- The discriptive and inferential statatics are two types of statastics.\n",
    "\n",
    "3. What are descriptive statistics?\n",
    "- Descriptive Statistics are used to summarize and organize data so it's easier to understand. They help us describe the main features of a dataset without making conclusions beyond the given data.\n",
    "\n",
    "4. What is inferential statistics?\n",
    "- Inferential Statistics is used to make predictions or generalizations about a population based on a sample of data. Unlike Descriptive Statistics, which summarizes data, inferential statistics helps you draw conclusions beyond the data you have.\n",
    "\n",
    "5. What is sampling in statistics?\n",
    "- Sampling in statistics is the process of selecting a subset of individuals or data points from a larger population to analyze and draw conclusions. Since studying an entire population is often impractical, sampling helps researchers make inferences efficiently\n",
    "\n",
    "6. What are the different types of sampling methods?\n",
    "- Sampling methods are essential in statistics and data science to select representative data for analysis. They fall into two broad categories: Probability Sampling and Non-Probability Sampling.\n",
    "\n",
    "7. What is the difference between random and non-random sampling?\n",
    "- Random sampling selects individuals randomly, ensuring unbiased representation, while non-random sampling follows specific selection criteria, which may introduce bias.\n",
    "\n",
    "8. Define and give examples of qualitative and quantitative data?\n",
    "- Qualitative data describes characteristics (e.g., colors, opinions), while quantitative data consists of numerical values (e.g., height, age).\n",
    "\n",
    "9. What are the different types of data in statistics?\n",
    "- - The main types of data are categorical and numerical, further divided into nominal, ordinal, discrete, and continuous data.\n",
    "\n",
    "10. Explain nominal, ordinal, interval, and ratio levels of measurement?\n",
    "- Nominal data classifies categories without order, ordinal data has a ranked order, interval data has equal intervals but no true zero, and ratio data includes a true zero, allowing meaningful comparisons.\n",
    "\n",
    "11. What is the measure of central tendency?\n",
    "- Measures of central tendency indicate a dataset's central value using mean, median, or mode.\n",
    "\n",
    "12. Define mean, median, and mode?\n",
    "- Mean is the average of values, median is the middle value when sorted, and mode is the most frequently occurring value.\n",
    "\n",
    "13. What is the significance of the measure of central tendency?\n",
    "- It helps summarize data by identifying a central point, making comparisons and analysis easier.\n",
    "\n",
    "14. What is variance, and how is it calculated?\n",
    "- Variance measures data dispersion from the mean, calculated as the average squared difference from the mean\n",
    "\n",
    "15. What is skewness in a dataset?\n",
    "- Skewness indicates asymmetry in data distribution, showing whether a dataset leans toward higher or lower values.\n",
    "\n",
    "16. What is standard deviation, and why is it important?\n",
    "- Standard deviation quantifies data spread from the mean, helping assess variability and consistency.\n",
    "\n",
    "17. Define and explain the term range in statistics?\n",
    "- The range is the difference between the highest and lowest values in a dataset, measuring overall spread.\n",
    "\n",
    "18. What is the difference between variance and standard deviation?\n",
    "- Variance measures dispersion in squared units, while standard deviation is its square root, making interpretation easier.\n",
    "\n",
    "19. What does it mean if a dataset is positively or negatively skewed?\n",
    "- Positive skew means data is concentrated on the left with a long right tail, while negative skew means data is concentrated on the right with a long left tail.\n",
    "\n",
    "20. Define and explain kurtosis?\n",
    "- Kurtosis assesses the \"tailedness\" of a distribution, differentiating between normal, peaked, or flat distributions\n",
    "\n",
    "21. What is the purpose of covariance?\n",
    "- Covariance shows the directional relationship between two variables, indicating whether they move together.\n",
    "\n",
    "22. What does correlation measure in statistics?\n",
    "- Correlation quantifies the strength and direction of the relationship between two variables on a scale from -1 to 1.\n",
    "\n",
    "23. What is the difference between covariance and correlation?\n",
    "- Covariance only shows direction, while correlation standardizes the relationship, making comparison easier.\n",
    "\n",
    "24. What are some real-world applications of statistics?\n",
    "- Statistics is used in business forecasting, healthcare analytics, scientific research, machine learning, and policy-making."
   ]
  },
  {
   "cell_type": "code",
   "execution_count": null,
   "id": "20aa147e",
   "metadata": {},
   "outputs": [],
   "source": [
    "# !pip install numpy scipy\n",
    "# I had import all module once in answer when it needed first time after that not imported it.\n",
    "# Because we run answer sequencially. \n",
    "# not using print because i cant differenciate which values like mean mode median in print format so raw format used.\n"
   ]
  },
  {
   "cell_type": "code",
   "execution_count": 36,
   "id": "dfc4d508",
   "metadata": {},
   "outputs": [
    {
     "data": {
      "text/plain": [
       "(np.float64(8.142857142857142), np.float64(7.0), np.int64(7))"
      ]
     },
     "execution_count": 36,
     "metadata": {},
     "output_type": "execute_result"
    }
   ],
   "source": [
    "# 1.How do you calculate the mean, median, and mode of a dataset\n",
    "\n",
    "import numpy as np\n",
    "import scipy.stats as stats\n",
    "\n",
    "data = [3, 7, 7, 5, 10, 10, 15]\n",
    "mean = np.mean(data)\n",
    "median = np.median(data)\n",
    "mode = stats.mode(data)[0]\n",
    "mean, median, mode"
   ]
  },
  {
   "cell_type": "code",
   "execution_count": 37,
   "id": "283dffa3",
   "metadata": {},
   "outputs": [
    {
     "data": {
      "text/plain": [
       "(np.float64(15.476190476190476), np.float64(3.933978962347216))"
      ]
     },
     "execution_count": 37,
     "metadata": {},
     "output_type": "execute_result"
    }
   ],
   "source": [
    "# 2. Write a Python program to compute the variance and standard deviation of a dataset\n",
    "\n",
    "variance = np.var(data, ddof=1)\n",
    "std_dev = np.std(data, ddof=1)\n",
    "variance, std_dev"
   ]
  },
  {
   "cell_type": "code",
   "execution_count": 38,
   "id": "21b4ca98",
   "metadata": {},
   "outputs": [
    {
     "data": {
      "text/plain": [
       "{'Nominal': ['Red', 'Blue', 'Green'],\n",
       " 'Ordinal': ['Low', 'Medium', 'High'],\n",
       " 'Interval': [10, 20, 30],\n",
       " 'Ratio': [5, 10, 20]}"
      ]
     },
     "execution_count": 38,
     "metadata": {},
     "output_type": "execute_result"
    }
   ],
   "source": [
    "# 3. Create a dataset and classify it into nominal, ordinal, interval, and ratio types\n",
    "\n",
    "dataset = {\n",
    "    \"Nominal\": [\"Red\", \"Blue\", \"Green\"],  \n",
    "    \"Ordinal\": [\"Low\", \"Medium\", \"High\"],  \n",
    "    \"Interval\": [10, 20, 30],  \n",
    "    \"Ratio\": [5, 10, 20]  \n",
    "}\n",
    "dataset"
   ]
  },
  {
   "cell_type": "code",
   "execution_count": 39,
   "id": "5d402193",
   "metadata": {},
   "outputs": [
    {
     "data": {
      "text/plain": [
       "([28, 74, 83, 47, 23, 15, 30, 43, 7, 29],\n",
       " [[9, 4],\n",
       "  [16, 20],\n",
       "  [26, 21],\n",
       "  [35, 31],\n",
       "  [44, 42],\n",
       "  [54, 55],\n",
       "  [65, 63],\n",
       "  [72, 75],\n",
       "  [82, 84]])"
      ]
     },
     "execution_count": 39,
     "metadata": {},
     "output_type": "execute_result"
    }
   ],
   "source": [
    "# 4. Implement sampling techniques like random sampling and stratified sampling\n",
    "import random\n",
    "\n",
    "population = list(range(1, 101))\n",
    "random_sample = random.sample(population, 10)\n",
    "strata = [random.sample(range(i, i + 10), 2) for i in range(1, 91, 10)]\n",
    "random_sample, strata"
   ]
  },
  {
   "cell_type": "code",
   "execution_count": 40,
   "id": "91aae6cb",
   "metadata": {},
   "outputs": [
    {
     "data": {
      "text/plain": [
       "12"
      ]
     },
     "execution_count": 40,
     "metadata": {},
     "output_type": "execute_result"
    }
   ],
   "source": [
    "# 5. Write a Python function to calculate the range of a dataset\n",
    "\n",
    "def data_range(data):\n",
    "    return max(data) - min(data)\n",
    "\n",
    "range_value = data_range(data)\n",
    "range_value"
   ]
  },
  {
   "cell_type": "code",
   "execution_count": 41,
   "id": "b065f38a",
   "metadata": {},
   "outputs": [
    {
     "data": {
      "image/png": "[encoded data removed]",
      "text/plain": [
       "<Figure size 640x480 with 1 Axes>"
      ]
     },
     "metadata": {},
     "output_type": "display_data"
    }
   ],
   "source": [
    "# 6. Create a dataset and plot its histogram to visualize skewness\n",
    "\n",
    "import matplotlib.pyplot as plt\n",
    "import seaborn as sns\n",
    "\n",
    "sns.histplot(data, kde=True)\n",
    "plt.title(\"Histogram of Data\")\n",
    "plt.show()"
   ]
  },
  {
   "cell_type": "code",
   "execution_count": 42,
   "id": "2fb4c885",
   "metadata": {},
   "outputs": [
    {
     "data": {
      "text/plain": [
       "(np.float64(0.4884196916333732), np.float64(-0.5358911242603548))"
      ]
     },
     "execution_count": 42,
     "metadata": {},
     "output_type": "execute_result"
    }
   ],
   "source": [
    "# 7. Calculate skewness and kurtosis of a dataset using Python libraries\n",
    "\n",
    "skewness = stats.skew(data)\n",
    "kurtosis = stats.kurtosis(data)\n",
    "skewness, kurtosis"
   ]
  },
  {
   "cell_type": "code",
   "execution_count": 43,
   "id": "8827bfce",
   "metadata": {},
   "outputs": [
    {
     "data": {
      "text/plain": [
       "(array([2.32191202, 0.28687242, 0.10533987, 1.25612033, 0.45136976,\n",
       "        0.92991776, 0.20951175, 0.3207921 , 3.66881125, 1.55853991]),\n",
       " array([9.19986655, 9.17089181, 7.76987413, 9.33809301, 7.46601786,\n",
       "        6.36762625, 8.87659954, 9.4428749 , 9.44118177, 7.68137119]))"
      ]
     },
     "execution_count": 43,
     "metadata": {},
     "output_type": "execute_result"
    }
   ],
   "source": [
    "# 8. Generate a dataset and demonstrate positive and negative skewness\n",
    "\n",
    "positive_skew = np.random.exponential(scale=2, size=100)\n",
    "negative_skew = np.random.beta(a=5, b=1, size=100) * 10\n",
    "positive_skew[:10], negative_skew[:10]"
   ]
  },
  {
   "cell_type": "code",
   "execution_count": 44,
   "id": "d64b1c95",
   "metadata": {},
   "outputs": [
    {
     "data": {
      "text/plain": [
       "np.float64(368.68888888888887)"
      ]
     },
     "execution_count": 44,
     "metadata": {},
     "output_type": "execute_result"
    }
   ],
   "source": [
    "# 9. Write a Python script to calculate covariance between two datasets\n",
    "\n",
    "data_x = np.random.randint(1, 100, 10)\n",
    "data_y = np.random.randint(1, 100, 10)\n",
    "covariance = np.cov(data_x, data_y)[0][1]\n",
    "covariance"
   ]
  },
  {
   "cell_type": "code",
   "execution_count": 45,
   "id": "f02baa02",
   "metadata": {},
   "outputs": [
    {
     "data": {
      "text/plain": [
       "np.float64(0.48481925164078166)"
      ]
     },
     "execution_count": 45,
     "metadata": {},
     "output_type": "execute_result"
    }
   ],
   "source": [
    "# 10. Write a Python script to calculate the crrelation coefficient between two datasets\n",
    "\n",
    "correlation = np.corrcoef(data_x, data_y)[0][1]\n",
    "correlation"
   ]
  },
  {
   "cell_type": "code",
   "execution_count": 46,
   "id": "e5adaef7",
   "metadata": {},
   "outputs": [
    {
     "data": {
      "image/png": "[encoded data removed]",
      "text/plain": [
       "<Figure size 640x480 with 1 Axes>"
      ]
     },
     "metadata": {},
     "output_type": "display_data"
    }
   ],
   "source": [
    "# 11.Create a scatter plot to visualize the relationship between two variables\n",
    "\n",
    "plt.scatter(data_x, data_y)\n",
    "plt.title(\"Scatter Plot of Two Variables\")\n",
    "plt.xlabel(\"Variable X\")\n",
    "plt.ylabel(\"Variable Y\")\n",
    "plt.show()"
   ]
  },
  {
   "cell_type": "code",
   "execution_count": 47,
   "id": "e15ef97b",
   "metadata": {},
   "outputs": [
    {
     "data": {
      "text/plain": [
       "([97, 85, 73, 69, 59, 77, 74, 11, 6, 14],\n",
       " [1, 11, 21, 31, 41, 51, 61, 71, 81, 91])"
      ]
     },
     "execution_count": 47,
     "metadata": {},
     "output_type": "execute_result"
    }
   ],
   "source": [
    "# 12.Implement and compare simple random sampling and systematic sampling\n",
    "\n",
    "simple_random_sample = random.sample(population, 10)\n",
    "systematic_sample = population[::10]\n",
    "simple_random_sample, systematic_sample"
   ]
  },
  {
   "cell_type": "code",
   "execution_count": 48,
   "id": "9daad68e",
   "metadata": {},
   "outputs": [
    {
     "data": {
      "text/plain": [
       "(np.float64(2.7), np.float64(2.5), np.int64(2))"
      ]
     },
     "execution_count": 48,
     "metadata": {},
     "output_type": "execute_result"
    }
   ],
   "source": [
    "# 13. Calculate the mean, median, and mode of grouped data\n",
    "import pandas as pd\n",
    "grouped_data = pd.Series([1, 1, 2, 2, 2, 3, 3, 4, 4, 5])\n",
    "grouped_mean = grouped_data.mean()\n",
    "grouped_median = grouped_data.median()\n",
    "grouped_mode = grouped_data.mode()[0]\n",
    "grouped_mean, grouped_median, grouped_mode"
   ]
  },
  {
   "cell_type": "code",
   "execution_count": 49,
   "id": "31b529e7",
   "metadata": {},
   "outputs": [
    {
     "data": {
      "text/plain": [
       "(np.float64(49.470322774458175),\n",
       " np.float64(47.387139439082524),\n",
       " np.float64(15.320123512424026))"
      ]
     },
     "execution_count": 49,
     "metadata": {},
     "output_type": "execute_result"
    }
   ],
   "source": [
    "# 14. Simulate data using Python and calculate its central tendency and dispersion.\n",
    "\n",
    "simulated_data = np.random.normal(loc=50, scale=15, size=100)\n",
    "simulated_mean = np.mean(simulated_data)\n",
    "simulated_median = np.median(simulated_data)\n",
    "simulated_std = np.std(simulated_data)\n",
    "simulated_mean, simulated_median, simulated_std"
   ]
  },
  {
   "cell_type": "code",
   "execution_count": 50,
   "id": "4641480d",
   "metadata": {},
   "outputs": [
    {
     "data": {
      "text/plain": [
       "count    100.000000\n",
       "mean      48.997826\n",
       "std       15.126264\n",
       "min       -1.990672\n",
       "25%       41.956979\n",
       "50%       48.911918\n",
       "75%       59.003139\n",
       "max       89.872741\n",
       "dtype: float64"
      ]
     },
     "execution_count": 50,
     "metadata": {},
     "output_type": "execute_result"
    }
   ],
   "source": [
    "# 15. Use NumPy or pandas to summarize a dataset’s descriptive statistics\n",
    "\n",
    "data = pd.Series(np.random.normal(loc=50, scale=15, size=100))\n",
    "summary = data.describe()\n",
    "summary"
   ]
  },
  {
   "cell_type": "code",
   "execution_count": 51,
   "id": "55930394",
   "metadata": {},
   "outputs": [
    {
     "data": {
      "image/png": "[encoded data removed]",
      "text/plain": [
       "<Figure size 640x480 with 1 Axes>"
      ]
     },
     "metadata": {},
     "output_type": "display_data"
    }
   ],
   "source": [
    "# 16. Plot a boxplot to understand the spread and identify outliers\n",
    "\n",
    "sns.boxplot(data=data)\n",
    "plt.title(\"Boxplot of Dataset\")\n",
    "plt.show()\n"
   ]
  },
  {
   "cell_type": "code",
   "execution_count": 52,
   "id": "d65c7903",
   "metadata": {},
   "outputs": [
    {
     "data": {
      "text/plain": [
       "np.float64(17.046159783559176)"
      ]
     },
     "execution_count": 52,
     "metadata": {},
     "output_type": "execute_result"
    }
   ],
   "source": [
    "# 17. Calculate the interquartile range (IQR) of a dataset\n",
    "\n",
    "Q1 = np.percentile(data, 25)\n",
    "Q3 = np.percentile(data, 75)\n",
    "IQR = Q3 - Q1\n",
    "IQR\n"
   ]
  },
  {
   "cell_type": "code",
   "execution_count": 53,
   "id": "fa0d132c",
   "metadata": {},
   "outputs": [
    {
     "data": {
      "text/plain": [
       "0   -0.607628\n",
       "1   -0.090175\n",
       "2    0.870413\n",
       "3   -0.311166\n",
       "4    0.415995\n",
       "5    1.999270\n",
       "6   -0.459765\n",
       "7   -0.304985\n",
       "8   -0.356747\n",
       "9    0.825176\n",
       "dtype: float64"
      ]
     },
     "execution_count": 53,
     "metadata": {},
     "output_type": "execute_result"
    }
   ],
   "source": [
    "# 18. Implement Z-score normalization and explain its significance\n",
    "\n",
    "def z_score_normalization(data):\n",
    "    return (data - np.mean(data)) / np.std(data)\n",
    "\n",
    "normalized_data = z_score_normalization(data)\n",
    "normalized_data[:10]  # Displaying first 10 values\n"
   ]
  },
  {
   "cell_type": "code",
   "execution_count": 54,
   "id": "b810ae94",
   "metadata": {},
   "outputs": [
    {
     "data": {
      "text/plain": [
       "(np.float64(9.593058642908998), np.float64(19.643615881614966))"
      ]
     },
     "execution_count": 54,
     "metadata": {},
     "output_type": "execute_result"
    }
   ],
   "source": [
    "# 19. Compare two datasets using their standard deviations\n",
    "\n",
    "data1 = np.random.normal(loc=40, scale=10, size=100)\n",
    "data2 = np.random.normal(loc=50, scale=20, size=100)\n",
    "\n",
    "std_dev1 = np.std(data1, ddof=1)\n",
    "std_dev2 = np.std(data2, ddof=1)\n",
    "std_dev1, std_dev2\n"
   ]
  },
  {
   "cell_type": "code",
   "execution_count": 55,
   "id": "501302bf",
   "metadata": {},
   "outputs": [
    {
     "data": {
      "image/png": "[encoded data removed]",
      "text/plain": [
       "<Figure size 640x480 with 2 Axes>"
      ]
     },
     "metadata": {},
     "output_type": "display_data"
    }
   ],
   "source": [
    "# 20. Write a Python program to visualize covariance using a heatmap\n",
    "\n",
    "df = pd.DataFrame({'A': np.random.randint(1, 100, 100), 'B': np.random.randint(1, 100, 100)})\n",
    "cov_matrix = df.cov()\n",
    "\n",
    "sns.heatmap(cov_matrix, annot=True, cmap=\"coolwarm\", fmt=\".2f\")\n",
    "plt.title(\"Covariance Heatmap\")\n",
    "plt.show()\n"
   ]
  },
  {
   "cell_type": "code",
   "execution_count": 56,
   "id": "74d47682",
   "metadata": {},
   "outputs": [
    {
     "data": {
      "image/png": "[encoded data removed]",
      "text/plain": [
       "<Figure size 640x480 with 2 Axes>"
      ]
     },
     "metadata": {},
     "output_type": "display_data"
    }
   ],
   "source": [
    "# 21. Use seaborn to create a correlation matrix for a dataset\n",
    "\n",
    "\n",
    "corr_matrix = df.corr()\n",
    "\n",
    "sns.heatmap(corr_matrix, annot=True, cmap=\"coolwarm\", fmt=\".2f\")\n",
    "plt.title(\"Correlation Matrix\")\n",
    "plt.show()\n"
   ]
  },
  {
   "cell_type": "code",
   "execution_count": 57,
   "id": "5df501a2",
   "metadata": {},
   "outputs": [
    {
     "data": {
      "text/plain": [
       "(np.float64(237.40478561669607), np.float64(15.40794553523266))"
      ]
     },
     "execution_count": 57,
     "metadata": {},
     "output_type": "execute_result"
    }
   ],
   "source": [
    "# 22. Generate a dataset and implement both variance and standard deviation computations\n",
    "\n",
    "data_generated = np.random.normal(loc=60, scale=15, size=100)\n",
    "variance = np.var(data_generated, ddof=1)\n",
    "std_dev = np.std(data_generated, ddof=1)\n",
    "variance, std_dev\n"
   ]
  },
  {
   "cell_type": "code",
   "execution_count": 58,
   "id": "0be7e525",
   "metadata": {},
   "outputs": [
    {
     "data": {
      "image/png": "[encoded data removed]",
      "text/plain": [
       "<Figure size 640x480 with 1 Axes>"
      ]
     },
     "metadata": {},
     "output_type": "display_data"
    }
   ],
   "source": [
    "# 23. Visualize skewness and kurtosis using Python libraries like matplotlib or seaborn\n",
    "\n",
    "skewness = stats.skew(data)\n",
    "kurtosis = stats.kurtosis(data)\n",
    "\n",
    "sns.histplot(data, kde=True)\n",
    "plt.title(f\"Histogram (Skewness: {skewness:.2f}, Kurtosis: {kurtosis:.2f})\")\n",
    "plt.show()\n"
   ]
  },
  {
   "cell_type": "code",
   "execution_count": 60,
   "id": "f410117b",
   "metadata": {},
   "outputs": [
    {
     "name": "stdout",
     "output_type": "stream",
     "text": [
      "0.032985587947499465\n",
      "0.033077398721258686\n"
     ]
    }
   ],
   "source": [
    "# 24. Implement the Pearson and Spearman correlation coefficients for a dataset.\n",
    "\n",
    "pearson_corr = stats.pearsonr(df['A'], df['B'])[0]\n",
    "spearman_corr = stats.spearmanr(df['A'], df['B'])[0]\n",
    "\n",
    "print(pearson_corr)\n",
    "print(spearman_corr)\n"
   ]
  },
  {
   "cell_type": "code",
   "execution_count": null,
   "id": "227325d3",
   "metadata": {},
   "outputs": [],
   "source": []
  }
 ],
 "metadata": {
  "kernelspec": {
   "display_name": "Python 3",
   "language": "python",
   "name": "python3"
  },
  "language_info": {
   "codemirror_mode": {
    "name": "ipython",
    "version": 3
   },
   "file_extension": ".py",
   "mimetype": "text/x-python",
   "name": "python",
   "nbconvert_exporter": "python",
   "pygments_lexer": "ipython3",
   "version": "3.13.2"
  }
 },
 "nbformat": 4,
 "nbformat_minor": 5
}
